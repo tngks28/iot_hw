{
  "nbformat": 4,
  "nbformat_minor": 0,
  "metadata": {
    "colab": {
      "provenance": [],
      "authorship_tag": "ABX9TyMw1LEX4M++Oyluis5RM/ti",
      "include_colab_link": true
    },
    "kernelspec": {
      "name": "python3",
      "display_name": "Python 3"
    },
    "language_info": {
      "name": "python"
    }
  },
  "cells": [
    {
      "cell_type": "markdown",
      "metadata": {
        "id": "view-in-github",
        "colab_type": "text"
      },
      "source": [
        "<a href=\"https://colab.research.google.com/github/tngks28/iot_hw/blob/main/tcp_client.ipynb\" target=\"_parent\"><img src=\"https://colab.research.google.com/assets/colab-badge.svg\" alt=\"Open In Colab\"/></a>"
      ]
    },
    {
      "cell_type": "code",
      "source": [
        "import socket\n",
        "\n",
        "HOST = \"google.com\"\n",
        "PORT = 80\n",
        "\n",
        "with socket.socket(socket.AF_INET, socket.SOCK_STREAM) as s:\n",
        "    s.connect((HOST, PORT))\n",
        "    s.sendall(b\"GET / HTTP/1.2\\n\\n\")\n",
        "    data = s.recv(1024)\n",
        "\n",
        "print(f\"Received {data.decode('utf-8')}\")"
      ],
      "metadata": {
        "colab": {
          "base_uri": "https://localhost:8080/"
        },
        "id": "-piJP8YAOz48",
        "outputId": "f4cdf24c-fc80-4ee1-9a08-d6821289c117"
      },
      "execution_count": 29,
      "outputs": [
        {
          "output_type": "stream",
          "name": "stdout",
          "text": [
            "Received HTTP/1.1 200 OK\r\n",
            "Date: Thu, 28 Mar 2024 04:17:29 GMT\r\n",
            "Expires: -1\r\n",
            "Cache-Control: private, max-age=0\r\n",
            "Content-Type: text/html; charset=ISO-8859-1\r\n",
            "Content-Security-Policy-Report-Only: object-src 'none';base-uri 'self';script-src 'nonce-i9P6r6qoZImUPPNgNei_pw' 'strict-dynamic' 'report-sample' 'unsafe-eval' 'unsafe-inline' https: http:;report-uri https://csp.withgoogle.com/csp/gws/other-hp\r\n",
            "P3P: CP=\"This is not a P3P policy! See g.co/p3phelp for more info.\"\r\n",
            "Server: gws\r\n",
            "X-XSS-Protection: 0\r\n",
            "X-Frame-Options: SAMEORIGIN\r\n",
            "Set-Cookie: 1P_JAR=2024-03-28-04; expires=Sat, 27-Apr-2024 04:17:29 GMT; path=/; domain=.google.com; Secure\r\n",
            "Set-Cookie: AEC=Ae3NU9OUNvdGzX-1JSlrkwwDJ1Y4Nki1e8A_erR7XjLGRXn3cxRmwvEtTJs; expires=Tue, 24-Sep-2024 04:17:29 GMT; path=/; domain=.google.com; Secure; HttpOnly; SameSite=lax\r\n",
            "Set-Cookie: NID=512=H6IXgl4La3mAWJI35fBfboxHs1e6BBsP3KJYaypqEdD9dUPyzHk65O8eOyQW3WN_-JDdMylPyw3DTqo2GQ0RbjT9p24DS9TqylC0WCcnc2faIhZ0IsTZBMENS-Xi1vLlW5w2FcZU-Amu7BWbCCAmskO90jQ8NrM27hXtiI5GPEE; expires=Fri, 27-Sep-20\n"
          ]
        }
      ]
    }
  ]
}