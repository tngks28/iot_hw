{
  "nbformat": 4,
  "nbformat_minor": 0,
  "metadata": {
    "colab": {
      "provenance": [],
      "authorship_tag": "ABX9TyN9zksE5D+yTmqaZxDbpmMq",
      "include_colab_link": true
    },
    "kernelspec": {
      "name": "python3",
      "display_name": "Python 3"
    },
    "language_info": {
      "name": "python"
    }
  },
  "cells": [
    {
      "cell_type": "markdown",
      "metadata": {
        "id": "view-in-github",
        "colab_type": "text"
      },
      "source": [
        "<a href=\"https://colab.research.google.com/github/tngks28/iot_hw/blob/main/bus.ipynb\" target=\"_parent\"><img src=\"https://colab.research.google.com/assets/colab-badge.svg\" alt=\"Open In Colab\"/></a>"
      ]
    },
    {
      "cell_type": "code",
      "source": [
        "!pip install beautifulsoup4\n",
        "import requests\n",
        "from bs4 import BeautifulSoup"
      ],
      "metadata": {
        "colab": {
          "base_uri": "https://localhost:8080/"
        },
        "id": "W7MHcJ2dpKuj",
        "outputId": "e6a92c72-5b69-41e2-f8b7-9ee3c62453a4"
      },
      "execution_count": 2,
      "outputs": [
        {
          "output_type": "stream",
          "name": "stdout",
          "text": [
            "Requirement already satisfied: beautifulsoup4 in /usr/local/lib/python3.10/dist-packages (4.12.3)\n",
            "Requirement already satisfied: soupsieve>1.2 in /usr/local/lib/python3.10/dist-packages (from beautifulsoup4) (2.5)\n"
          ]
        }
      ]
    },
    {
      "cell_type": "code",
      "source": [
        "import requests"
      ],
      "metadata": {
        "id": "QyfB_XABmXgx"
      },
      "execution_count": 3,
      "outputs": []
    },
    {
      "cell_type": "code",
      "source": [
        "r=requests.get('http://openapi.gbis.go.kr/ws/rest/buslocationservice?serviceKey=1234567890&routeId=233000031')\n",
        "\n",
        "print(r.text)"
      ],
      "metadata": {
        "colab": {
          "base_uri": "https://localhost:8080/"
        },
        "id": "bXTVAPGpLVUN",
        "outputId": "d481b15d-0a3d-4357-b557-e629950ea65e"
      },
      "execution_count": 6,
      "outputs": [
        {
          "output_type": "stream",
          "name": "stdout",
          "text": [
            "<?xml version=\"1.0\" encoding=\"UTF-8\" standalone=\"yes\"?><response><comMsgHeader/><msgHeader><queryTime>2024-03-16 16:48:57.360</queryTime><resultCode>0</resultCode><resultMessage>정상적으로 처리되었습니다.</resultMessage></msgHeader><msgBody><busLocationList><endBus>0</endBus><lowPlate>0</lowPlate><plateNo>경기70사1181</plateNo><plateType>3</plateType><remainSeatCnt>40</remainSeatCnt><routeId>233000031</routeId><stationId>202000208</stationId><stationSeq>67</stationSeq></busLocationList><busLocationList><endBus>0</endBus><lowPlate>0</lowPlate><plateNo>경기70사1673</plateNo><plateType>4</plateType><remainSeatCnt>54</remainSeatCnt><routeId>233000031</routeId><stationId>220000020</stationId><stationSeq>31</stationSeq></busLocationList><busLocationList><endBus>0</endBus><lowPlate>0</lowPlate><plateNo>경기70사1669</plateNo><plateType>4</plateType><remainSeatCnt>65</remainSeatCnt><routeId>233000031</routeId><stationId>277103202</stationId><stationSeq>40</stationSeq></busLocationList><busLocationList><endBus>0</endBus><lowPlate>0</lowPlate><plateNo>경기70사1653</plateNo><plateType>3</plateType><remainSeatCnt>30</remainSeatCnt><routeId>233000031</routeId><stationId>200000202</stationId><stationSeq>60</stationSeq></busLocationList><busLocationList><endBus>0</endBus><lowPlate>0</lowPlate><plateNo>경기70사1671</plateNo><plateType>4</plateType><remainSeatCnt>50</remainSeatCnt><routeId>233000031</routeId><stationId>200000184</stationId><stationSeq>57</stationSeq></busLocationList><busLocationList><endBus>0</endBus><lowPlate>0</lowPlate><plateNo>경기70사1183</plateNo><plateType>3</plateType><remainSeatCnt>29</remainSeatCnt><routeId>233000031</routeId><stationId>277103201</stationId><stationSeq>41</stationSeq></busLocationList><busLocationList><endBus>0</endBus><lowPlate>0</lowPlate><plateNo>경기70사1686</plateNo><plateType>3</plateType><remainSeatCnt>44</remainSeatCnt><routeId>233000031</routeId><stationId>277101594</stationId><stationSeq>3</stationSeq></busLocationList><busLocationList><endBus>0</endBus><lowPlate>0</lowPlate><plateNo>경기70사1168</plateNo><plateType>3</plateType><remainSeatCnt>33</remainSeatCnt><routeId>233000031</routeId><stationId>200000271</stationId><stationSeq>58</stationSeq></busLocationList><busLocationList><endBus>0</endBus><lowPlate>0</lowPlate><plateNo>경기70사1692</plateNo><plateType>3</plateType><remainSeatCnt>5</remainSeatCnt><routeId>233000031</routeId><stationId>200000079</stationId><stationSeq>17</stationSeq></busLocationList><busLocationList><endBus>0</endBus><lowPlate>0</lowPlate><plateNo>경기70사1189</plateNo><plateType>3</plateType><remainSeatCnt>39</remainSeatCnt><routeId>233000031</routeId><stationId>202000088</stationId><stationSeq>4</stationSeq></busLocationList><busLocationList><endBus>0</endBus><lowPlate>0</lowPlate><plateNo>경기70사1139</plateNo><plateType>3</plateType><remainSeatCnt>33</remainSeatCnt><routeId>233000031</routeId><stationId>200000321</stationId><stationSeq>11</stationSeq></busLocationList><busLocationList><endBus>0</endBus><lowPlate>0</lowPlate><plateNo>경기70사1153</plateNo><plateType>3</plateType><remainSeatCnt>37</remainSeatCnt><routeId>233000031</routeId><stationId>202000204</stationId><stationSeq>9</stationSeq></busLocationList><busLocationList><endBus>0</endBus><lowPlate>0</lowPlate><plateNo>경기70사1637</plateNo><plateType>3</plateType><remainSeatCnt>1</remainSeatCnt><routeId>233000031</routeId><stationId>277104642</stationId><stationSeq>24</stationSeq></busLocationList><busLocationList><endBus>0</endBus><lowPlate>0</lowPlate><plateNo>경기70사1502</plateNo><plateType>3</plateType><remainSeatCnt>22</remainSeatCnt><routeId>233000031</routeId><stationId>277104641</stationId><stationSeq>47</stationSeq></busLocationList><busLocationList><endBus>0</endBus><lowPlate>0</lowPlate><plateNo>경기70사1650</plateNo><plateType>3</plateType><remainSeatCnt>6</remainSeatCnt><routeId>233000031</routeId><stationId>121001315</stationId><stationSeq>33</stationSeq></busLocationList><busLocationList><endBus>0</endBus><lowPlate>0</lowPlate><plateNo>경기70사1636</plateNo><plateType>3</plateType><remainSeatCnt>10</remainSeatCnt><routeId>233000031</routeId><stationId>200000196</stationId><stationSeq>52</stationSeq></busLocationList><busLocationList><endBus>0</endBus><lowPlate>0</lowPlate><plateNo>경기70사1668</plateNo><plateType>4</plateType><remainSeatCnt>58</remainSeatCnt><routeId>233000031</routeId><stationId>277103323</stationId><stationSeq>23</stationSeq></busLocationList><busLocationList><endBus>0</endBus><lowPlate>0</lowPlate><plateNo>경기70사1192</plateNo><plateType>3</plateType><remainSeatCnt>21</remainSeatCnt><routeId>233000031</routeId><stationId>277103205</stationId><stationSeq>30</stationSeq></busLocationList><busLocationList><endBus>0</endBus><lowPlate>0</lowPlate><plateNo>경기70사1198</plateNo><plateType>3</plateType><remainSeatCnt>0</remainSeatCnt><routeId>233000031</routeId><stationId>277102049</stationId><stationSeq>36</stationSeq></busLocationList><busLocationList><endBus>0</endBus><lowPlate>0</lowPlate><plateNo>경기70사1670</plateNo><plateType>4</plateType><remainSeatCnt>52</remainSeatCnt><routeId>233000031</routeId><stationId>226000038</stationId><stationSeq>44</stationSeq></busLocationList><busLocationList><endBus>0</endBus><lowPlate>0</lowPlate><plateNo>경기70사1152</plateNo><plateType>3</plateType><remainSeatCnt>13</remainSeatCnt><routeId>233000031</routeId><stationId>277103204</stationId><stationSeq>39</stationSeq></busLocationList><busLocationList><endBus>0</endBus><lowPlate>0</lowPlate><plateNo>경기70사1672</plateNo><plateType>4</plateType><remainSeatCnt>70</remainSeatCnt><routeId>233000031</routeId><stationId>121001315</stationId><stationSeq>33</stationSeq></busLocationList><busLocationList><endBus>0</endBus><lowPlate>0</lowPlate><plateNo>경기70사1169</plateNo><plateType>3</plateType><remainSeatCnt>39</remainSeatCnt><routeId>233000031</routeId><stationId>200000187</stationId><stationSeq>14</stationSeq></busLocationList><busLocationList><endBus>0</endBus><lowPlate>0</lowPlate><plateNo>경기70사1501</plateNo><plateType>3</plateType><remainSeatCnt>18</remainSeatCnt><routeId>233000031</routeId><stationId>277103158</stationId><stationSeq>42</stationSeq></busLocationList><busLocationList><endBus>0</endBus><lowPlate>0</lowPlate><plateNo>경기70사1691</plateNo><plateType>3</plateType><remainSeatCnt>44</remainSeatCnt><routeId>233000031</routeId><stationId>121001315</stationId><stationSeq>33</stationSeq></busLocationList><busLocationList><endBus>0</endBus><lowPlate>0</lowPlate><plateNo>경기70사1689</plateNo><plateType>3</plateType><remainSeatCnt>44</remainSeatCnt><routeId>233000031</routeId><stationId>277101594</stationId><stationSeq>3</stationSeq></busLocationList></msgBody></response>\n"
          ]
        }
      ]
    },
    {
      "cell_type": "code",
      "source": [
        "soup=BeautifulSoup(r.text,features=\"xml\")"
      ],
      "metadata": {
        "id": "fNLuJXxatfUD"
      },
      "execution_count": 7,
      "outputs": []
    },
    {
      "cell_type": "code",
      "source": [
        "soup.find_all('stationId')"
      ],
      "metadata": {
        "id": "cdzrghD2tHmW",
        "colab": {
          "base_uri": "https://localhost:8080/"
        },
        "outputId": "74ea54a3-d1a0-4945-e14c-b6695ca7d28a"
      },
      "execution_count": 8,
      "outputs": [
        {
          "output_type": "execute_result",
          "data": {
            "text/plain": [
              "[<stationId>202000208</stationId>,\n",
              " <stationId>220000020</stationId>,\n",
              " <stationId>277103202</stationId>,\n",
              " <stationId>200000202</stationId>,\n",
              " <stationId>200000184</stationId>,\n",
              " <stationId>277103201</stationId>,\n",
              " <stationId>277101594</stationId>,\n",
              " <stationId>200000271</stationId>,\n",
              " <stationId>200000079</stationId>,\n",
              " <stationId>202000088</stationId>,\n",
              " <stationId>200000321</stationId>,\n",
              " <stationId>202000204</stationId>,\n",
              " <stationId>277104642</stationId>,\n",
              " <stationId>277104641</stationId>,\n",
              " <stationId>121001315</stationId>,\n",
              " <stationId>200000196</stationId>,\n",
              " <stationId>277103323</stationId>,\n",
              " <stationId>277103205</stationId>,\n",
              " <stationId>277102049</stationId>,\n",
              " <stationId>226000038</stationId>,\n",
              " <stationId>277103204</stationId>,\n",
              " <stationId>121001315</stationId>,\n",
              " <stationId>200000187</stationId>,\n",
              " <stationId>277103158</stationId>,\n",
              " <stationId>121001315</stationId>,\n",
              " <stationId>277101594</stationId>]"
            ]
          },
          "metadata": {},
          "execution_count": 8
        }
      ]
    },
    {
      "cell_type": "code",
      "source": [
        "print('학번=',2170014,'이름=','김수한')"
      ],
      "metadata": {
        "colab": {
          "base_uri": "https://localhost:8080/"
        },
        "id": "WmdoDAN-w08R",
        "outputId": "e6633575-4c8f-426e-8a7f-2e1807b3271a"
      },
      "execution_count": 9,
      "outputs": [
        {
          "output_type": "stream",
          "name": "stdout",
          "text": [
            "학번= 2170014 이름= 김수한\n"
          ]
        }
      ]
    }
  ]
}