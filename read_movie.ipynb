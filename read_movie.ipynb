{
  "nbformat": 4,
  "nbformat_minor": 0,
  "metadata": {
    "colab": {
      "provenance": [],
      "authorship_tag": "ABX9TyM9Z+cFlSKt752aBLIWTVn0",
      "include_colab_link": true
    },
    "kernelspec": {
      "name": "python3",
      "display_name": "Python 3"
    },
    "language_info": {
      "name": "python"
    }
  },
  "cells": [
    {
      "cell_type": "markdown",
      "metadata": {
        "id": "view-in-github",
        "colab_type": "text"
      },
      "source": [
        "<a href=\"https://colab.research.google.com/github/tngks28/iot_hw/blob/main/read_movie.ipynb\" target=\"_parent\"><img src=\"https://colab.research.google.com/assets/colab-badge.svg\" alt=\"Open In Colab\"/></a>"
      ]
    },
    {
      "cell_type": "code",
      "execution_count": null,
      "metadata": {
        "id": "szO1wH_pIn_Z"
      },
      "outputs": [],
      "source": [
        "import requests\n",
        "r=requests.get('https://www.kobis.or.kr/kobis/mobile/main/findRealTicketList.do')\n",
        "print(r.text)"
      ]
    },
    {
      "cell_type": "code",
      "source": [
        "!pip install beautifulsoup4"
      ],
      "metadata": {
        "colab": {
          "base_uri": "https://localhost:8080/"
        },
        "id": "rtbfkccuMoO8",
        "outputId": "66061a1f-2531-493f-805c-b89d0f5198d9"
      },
      "execution_count": null,
      "outputs": [
        {
          "output_type": "stream",
          "name": "stdout",
          "text": [
            "Requirement already satisfied: beautifulsoup4 in /usr/local/lib/python3.10/dist-packages (4.12.3)\n",
            "Requirement already satisfied: soupsieve>1.2 in /usr/local/lib/python3.10/dist-packages (from beautifulsoup4) (2.5)\n"
          ]
        }
      ]
    },
    {
      "cell_type": "code",
      "source": [
        "import requests\n",
        "from bs4 import BeautifulSoup"
      ],
      "metadata": {
        "id": "s6UIOM4HMqdl"
      },
      "execution_count": null,
      "outputs": []
    },
    {
      "cell_type": "code",
      "source": [
        "html = BeautifulSoup(r.content, \"html.parser\")\n",
        "li=html.find_all(\"li\")\n",
        "for l in li:\n",
        "  a=l.find(\"strong\")\n",
        "  if a != None:\n",
        "   print(a)"
      ],
      "metadata": {
        "colab": {
          "base_uri": "https://localhost:8080/"
        },
        "id": "RzIgvmiGNH8m",
        "outputId": "d8e99ff9-7aad-4690-a4f1-701bb91ca27c"
      },
      "execution_count": 73,
      "outputs": [
        {
          "output_type": "stream",
          "name": "stdout",
          "text": [
            "<strong class=\"tit ellip\">파묘\r\n",
            "\t\t\t\t\t\t\t\t<span class=\"en ellip\">\r\n",
            "\t\t\t\t\t\t\t\t\t(Exhuma)\t                        \t\r\n",
            "\t\t\t\t\t\t\t\t</span>\n",
            "</strong>\n",
            "<strong class=\"tit ellip\">듄: 파트2\r\n",
            "\t\t\t\t\t\t\t\t<span class=\"en ellip\">\r\n",
            "\t\t\t\t\t\t\t\t\t(Dune: Part Two)\t                        \t\r\n",
            "\t\t\t\t\t\t\t\t</span>\n",
            "</strong>\n",
            "<strong class=\"tit ellip\">극장판 스파이 패밀리 코드 : 화이트\r\n",
            "\t\t\t\t\t\t\t\t<span class=\"en ellip\">\r\n",
            "\t\t\t\t\t\t\t\t\t(SPY x FAMILY CODE: White)\t                        \t\r\n",
            "\t\t\t\t\t\t\t\t</span>\n",
            "</strong>\n",
            "<strong class=\"tit ellip\">밥 말리: 원 러브\r\n",
            "\t\t\t\t\t\t\t\t<span class=\"en ellip\">\r\n",
            "\t\t\t\t\t\t\t\t\t(Bob Marley: One Love)\t                        \t\r\n",
            "\t\t\t\t\t\t\t\t</span>\n",
            "</strong>\n",
            "<strong class=\"tit ellip\">랜드 오브 배드\r\n",
            "\t\t\t\t\t\t\t\t<span class=\"en ellip\">\r\n",
            "\t\t\t\t\t\t\t\t\t(Land of Bad)\t                        \t\r\n",
            "\t\t\t\t\t\t\t\t</span>\n",
            "</strong>\n"
          ]
        }
      ]
    }
  ]
}